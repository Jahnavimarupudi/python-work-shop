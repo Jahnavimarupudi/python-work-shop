{
 "cells": [
  {
   "cell_type": "code",
   "execution_count": 5,
   "metadata": {},
   "outputs": [
    {
     "name": "stdout",
     "output_type": "stream",
     "text": [
      "hi welcome\n"
     ]
    }
   ],
   "source": [
    "print(\"hi welcome\")"
   ]
  },
  {
   "cell_type": "raw",
   "metadata": {},
   "source": [
    "###python\n",
    "-it is a general purpose,high level and interpreted programming language\n",
    "-general purpose\n",
    "-used for various real time applications\n",
    "-high level programming language\n",
    "-understandable language\n",
    "-interpreted\n",
    " -gives us line by line execution\n",
    " -simple to learn and easy to code\n",
    " \n"
   ]
  },
  {
   "cell_type": "code",
   "execution_count": 9,
   "metadata": {},
   "outputs": [
    {
     "name": "stdout",
     "output_type": "stream",
     "text": [
      "1800\n",
      "not leap year\n"
     ]
    }
   ],
   "source": [
    "#leap year defenition\n",
    "year=int(input())\n",
    "if (year%400==0) or (year%100!=0 and year%4==0):\n",
    "    print(\"leap year\")\n",
    "else:print(\"not leap year\")    "
   ]
  },
  {
   "cell_type": "code",
   "execution_count": 8,
   "metadata": {},
   "outputs": [],
   "source": [
    "##write a program to read 3 numbers and print the biggest number\n"
   ]
  },
  {
   "cell_type": "code",
   "execution_count": 10,
   "metadata": {},
   "outputs": [
    {
     "name": "stdout",
     "output_type": "stream",
     "text": [
      "12\n",
      "24\n",
      "03\n",
      "b is big\n"
     ]
    }
   ],
   "source": [
    "a=int(input())\n",
    "b=int(input())\n",
    "c=int(input())\n",
    "if(a>b and a>c):\n",
    "    print(\"a is big\")\n",
    "elif(b>a and b>c):\n",
    "    print(\"b is big\")\n",
    "else:\n",
    "    print(\"c is big\")\n",
    "    "
   ]
  }
 ],
 "metadata": {
  "kernelspec": {
   "display_name": "Python 3",
   "language": "python",
   "name": "python3"
  },
  "language_info": {
   "codemirror_mode": {
    "name": "ipython",
    "version": 3
   },
   "file_extension": ".py",
   "mimetype": "text/x-python",
   "name": "python",
   "nbconvert_exporter": "python",
   "pygments_lexer": "ipython3",
   "version": "3.8.5"
  }
 },
 "nbformat": 4,
 "nbformat_minor": 4
}
