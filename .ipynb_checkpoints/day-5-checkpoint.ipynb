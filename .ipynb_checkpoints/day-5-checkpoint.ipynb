{
 "cells": [
  {
   "cell_type": "markdown",
   "metadata": {},
   "source": [
    "###Regular Experssion"
   ]
  },
  {
   "cell_type": "markdown",
   "metadata": {},
   "source": [
    "-import regular expression package(re)\n",
    "***method in regular expression ***\n",
    "select\n",
    "match\n",
    "findall"
   ]
  },
  {
   "cell_type": "code",
   "execution_count": 4,
   "metadata": {},
   "outputs": [
    {
     "name": "stdout",
     "output_type": "stream",
     "text": [
      "<re.Match object; span=(3, 5), match='na'>\n",
      "None\n"
     ]
    }
   ],
   "source": [
    "import re\n",
    "print(re.search(\"na\",\"vignan\"))\n",
    "print(re.search(\"na\",\"lara\"))"
   ]
  },
  {
   "cell_type": "code",
   "execution_count": 7,
   "metadata": {},
   "outputs": [
    {
     "name": "stdout",
     "output_type": "stream",
     "text": [
      "<re.Match object; span=(3, 5), match='na'>\n"
     ]
    }
   ],
   "source": [
    "print(re.search(\"na\",'vignan'))"
   ]
  },
  {
   "cell_type": "code",
   "execution_count": 9,
   "metadata": {},
   "outputs": [
    {
     "name": "stdout",
     "output_type": "stream",
     "text": [
      "['na']\n"
     ]
    }
   ],
   "source": [
    "print(re.findall(\"na\",'vignan'))"
   ]
  },
  {
   "cell_type": "code",
   "execution_count": 10,
   "metadata": {},
   "outputs": [
    {
     "name": "stdout",
     "output_type": "stream",
     "text": [
      "<re.Match object; span=(0, 5), match='vigna'>\n",
      "<re.Match object; span=(0, 1), match='v'>\n"
     ]
    }
   ],
   "source": [
    "#\".\" symbol\n",
    "print(re.search(\".....\",\"vignan\"))\n",
    "print(re.search(\".\",\"vignan\"))"
   ]
  },
  {
   "cell_type": "code",
   "execution_count": 12,
   "metadata": {},
   "outputs": [
    {
     "name": "stdout",
     "output_type": "stream",
     "text": [
      "<re.Match object; span=(0, 10), match='vignan lar'>\n",
      "None\n"
     ]
    }
   ],
   "source": [
    "#{min,max}\n",
    "\n",
    "print(re.search(\".{3,10}\",\"vignan lara\"))\n",
    "print(re.search(\"..\",\"v\"))"
   ]
  },
  {
   "cell_type": "code",
   "execution_count": 14,
   "metadata": {},
   "outputs": [
    {
     "name": "stdout",
     "output_type": "stream",
     "text": [
      "<re.Match object; span=(0, 3), match='vig'>\n",
      "<re.Match object; span=(4, 7), match='vig'>\n",
      "None\n"
     ]
    }
   ],
   "source": [
    "#\"^\"\n",
    "\n",
    "print(re.search(\"^vig\",\"vignan lara\"))\n",
    "print(re.search(\"vig\",\"dfdfvignan lara\"))\n",
    "print(re.search(\"^vig\",\"nanvig lara\"))"
   ]
  },
  {
   "cell_type": "code",
   "execution_count": 13,
   "metadata": {},
   "outputs": [
    {
     "name": "stdout",
     "output_type": "stream",
     "text": [
      "<re.Match object; span=(0, 10), match='vignan lar'>\n",
      "None\n",
      "<re.Match object; span=(0, 1), match='v'>\n"
     ]
    }
   ],
   "source": [
    "#{min,max}\n",
    "\n",
    "print(re.search(\".{3,10}\",\"vignan lara\"))\n",
    "print(re.search(\"..\",\"v\"))\n",
    "print(re.search(\".{0,12}\",\"v\"))"
   ]
  },
  {
   "cell_type": "code",
   "execution_count": 15,
   "metadata": {},
   "outputs": [
    {
     "name": "stdout",
     "output_type": "stream",
     "text": [
      "<re.Match object; span=(8, 11), match='ara'>\n",
      "<re.Match object; span=(7, 10), match='nan'>\n",
      "None\n"
     ]
    }
   ],
   "source": [
    "#\"$\"\n",
    "\n",
    "print(re.search(\"ara$\",\"vignan lara\"))\n",
    "print(re.search(\"nan\",\"dfdfvignan lara\"))\n",
    "print(re.search(\"nan$\",\"dfdfvig lara\"))"
   ]
  },
  {
   "cell_type": "code",
   "execution_count": null,
   "metadata": {},
   "outputs": [],
   "source": []
  },
  {
   "cell_type": "code",
   "execution_count": 16,
   "metadata": {},
   "outputs": [
    {
     "name": "stdout",
     "output_type": "stream",
     "text": [
      "<re.Match object; span=(6, 7), match=' '>\n",
      "None\n"
     ]
    }
   ],
   "source": [
    "# * symbol\n",
    "\n",
    "print(re.search(\" * \",\"vignan lara\"))\n",
    "print(re.search(\" * \",\"vignanlara\"))"
   ]
  },
  {
   "cell_type": "code",
   "execution_count": 18,
   "metadata": {},
   "outputs": [
    {
     "name": "stdout",
     "output_type": "stream",
     "text": [
      "None\n",
      "None\n",
      "None\n"
     ]
    }
   ],
   "source": [
    "#+symbol\n",
    "\n",
    "print(re.search(\" + \",\"vignan lara\"))\n",
    "print(re.search(\" + \",\"vignan lara\"))\n",
    "print(re.search(\" + \",\"vignan lara\"))\n"
   ]
  },
  {
   "cell_type": "code",
   "execution_count": 20,
   "metadata": {},
   "outputs": [
    {
     "name": "stdout",
     "output_type": "stream",
     "text": [
      "<re.Match object; span=(0, 1), match='V'>\n",
      "<re.Match object; span=(6, 7), match='L'>\n",
      "<re.Match object; span=(0, 1), match='V'>\n",
      "<re.Match object; span=(0, 1), match='L'>\n",
      "None\n"
     ]
    }
   ],
   "source": [
    "#[]\n",
    "\n",
    "print(re.search(\"[VLITS]\",\"Vignan lara\"))\n",
    "print(re.search(\"[VLITS]\",\"ignan Lara\"))\n",
    "print(re.match(\"[VLITS]\",\"Vignan lara\"))\n",
    "print(re.match(\"[VLITS]\",\"Lignan lara\"))\n",
    "print(re.match(\"[VLITS]\",\"vignan lara\"))"
   ]
  },
  {
   "cell_type": "code",
   "execution_count": 21,
   "metadata": {},
   "outputs": [
    {
     "name": "stdout",
     "output_type": "stream",
     "text": [
      "<re.Match object; span=(1, 2), match='i'>\n",
      "<re.Match object; span=(0, 1), match='i'>\n",
      "None\n",
      "None\n",
      "<re.Match object; span=(0, 1), match='v'>\n"
     ]
    }
   ],
   "source": [
    "#[]\n",
    "\n",
    "print(re.search(\"[^VLITS]\",\"Vignan lara\"))\n",
    "print(re.search(\"[^VLITS]\",\"ignan Lara\"))\n",
    "print(re.match(\"[^VLITS]\",\"Vignan lara\"))\n",
    "print(re.match(\"[^VLITS]\",\"Lignan lara\"))\n",
    "print(re.match(\"[^VLITS]\",\"vignan lara\"))"
   ]
  },
  {
   "cell_type": "code",
   "execution_count": 22,
   "metadata": {},
   "outputs": [
    {
     "name": "stdout",
     "output_type": "stream",
     "text": [
      "[2, 4, 6]\n"
     ]
    }
   ],
   "source": [
    "l=[1,2,3,4,5,6]\n",
    "l1 = []\n",
    "for i in l:\n",
    "    if i%2==0:\n",
    "        l1.append(i)\n",
    "print(l1)"
   ]
  },
  {
   "cell_type": "code",
   "execution_count": 23,
   "metadata": {},
   "outputs": [
    {
     "name": "stdout",
     "output_type": "stream",
     "text": [
      "[1, 2, 3, 4, 5, 6]\n"
     ]
    },
    {
     "data": {
      "text/plain": [
       "[2, 4, 6]"
      ]
     },
     "execution_count": 23,
     "metadata": {},
     "output_type": "execute_result"
    }
   ],
   "source": [
    "print(l)\n",
    "[i for i in l if i%2==0]"
   ]
  },
  {
   "cell_type": "code",
   "execution_count": null,
   "metadata": {},
   "outputs": [],
   "source": []
  }
 ],
 "metadata": {
  "kernelspec": {
   "display_name": "Python 3",
   "language": "python",
   "name": "python3"
  },
  "language_info": {
   "codemirror_mode": {
    "name": "ipython",
    "version": 3
   },
   "file_extension": ".py",
   "mimetype": "text/x-python",
   "name": "python",
   "nbconvert_exporter": "python",
   "pygments_lexer": "ipython3",
   "version": "3.8.5"
  }
 },
 "nbformat": 4,
 "nbformat_minor": 4
}
