{
 "cells": [
  {
   "cell_type": "code",
   "execution_count": null,
   "metadata": {},
   "outputs": [],
   "source": [
    "# assigment operators\n",
    "a=21\n",
    "b=10\n",
    "c=0\n",
    "c=a+b\n",
    "print(\"line 1 - value of c is\",c)\n",
    "c=a-b\n",
    "print(\"line 2 -value of c is\",c)\n",
    "c=a*b\n",
    "print(\"line 3-value of c is\",c)"
   ]
  },
  {
   "cell_type": "code",
   "execution_count": null,
   "metadata": {},
   "outputs": [],
   "source": [
    "n=int(input())\n",
    "s=0\n",
    "while n>0:\n",
    "    rem=n%10\n",
    "    s+=rem\n",
    "    n//=10\n",
    "print(s,\"is prime\")\n",
    "count=0\n",
    "for n in range(1,s+1):\n",
    "    if(s%n==1):\n",
    "        count+=1\n",
    "if count==2:\n",
    "    print(\"perfect number\")\n",
    "else:\n",
    "    print(\"not perfect number\")\n"
   ]
  },
  {
   "cell_type": "markdown",
   "metadata": {},
   "source": [
    "# #string\n"
   ]
  },
  {
   "cell_type": "code",
   "execution_count": null,
   "metadata": {},
   "outputs": [],
   "source": [
    "clg=\"vignan's lara\"\n",
    "print(clg) "
   ]
  },
  {
   "cell_type": "code",
   "execution_count": null,
   "metadata": {},
   "outputs": [],
   "source": [
    "num=(1.\"briyani is 180\"2.\"dum chicken is 250\"3.)"
   ]
  },
  {
   "cell_type": "code",
   "execution_count": null,
   "metadata": {},
   "outputs": [],
   "source": [
    "str='janu'\n",
    "print(str)\n",
    "print(str[0])\n",
    "print(str[2:5])\n",
    "print(str[2: ])\n",
    "print(str[1: ])\n",
    "print(str[2:])\n",
    "print(str * 1)\n",
    "print(str[2:])\n",
    "print(str * 5)\n",
    "print(str+\"bujji\")\n"
   ]
  },
  {
   "cell_type": "code",
   "execution_count": null,
   "metadata": {},
   "outputs": [],
   "source": [
    "n=int(input().split())\n",
    "count=0\n",
    "for i in n:\n",
    "    if world==\"and\"\n",
    "    count==0\n",
    "    print(\"frequency of and:\",fre)\n",
    "    print(\"en\")"
   ]
  },
  {
   "cell_type": "code",
   "execution_count": null,
   "metadata": {},
   "outputs": [],
   "source": [
    "str=\"hello world\"\n",
    "print(str)\n",
    "print(str[0])\n",
    "print(str[2:5])\n",
    "print(str[2: ])\n",
    "print(str * 2)\n",
    "print(str+\"janu\")\n",
    "\n"
   ]
  },
  {
   "cell_type": "code",
   "execution_count": null,
   "metadata": {},
   "outputs": [],
   "source": [
    "#read n space integers from user and print the prime no.s present in it\n",
    "#by using function \n",
    "n=int(input())\n",
    "\n"
   ]
  },
  {
   "cell_type": "code",
   "execution_count": null,
   "metadata": {},
   "outputs": [],
   "source": [
    "def is_ prime(n):\n",
    "    factors=0\n",
    "    for num in range(1,n+1):\n",
    "        if n%num is 0:\n",
    "            factors+=1\n",
    "            if factors==2:\n",
    "                return True\n",
    "            else:return False\n",
    "nums=input().split()\n",
    "for num in nums:\n",
    "    if is_prime(int num\n",
    "        "
   ]
  },
  {
   "cell_type": "code",
   "execution_count": null,
   "metadata": {},
   "outputs": [],
   "source": [
    "#without using while loop find the sum of digits in a number\n",
    "#123=1+2+3=6\n",
    "s=0\n",
    "num=input()\n",
    "for ch in num:\n",
    "    s+=int(ch)\n",
    "print(s)"
   ]
  },
  {
   "cell_type": "code",
   "execution_count": null,
   "metadata": {},
   "outputs": [],
   "source": [
    "#read alphanumeric string from user,count no.of digits in it\n",
    "#i/p:vignan19fe1a0588\n",
    "#o/p:6\n",
    "n=input()\n",
    "c=0\n",
    "k=0\n",
    "for ch in n:\n",
    "    if(ch.isdigit()):\n",
    "        c+=1\n",
    "    if(ch.isalpha()):\n",
    "        k+=1\n",
    "print(c)\n",
    "print(k)"
   ]
  },
  {
   "cell_type": "code",
   "execution_count": null,
   "metadata": {},
   "outputs": [],
   "source": [
    "for num in range(100,500):\n",
    "    count,s=0,0\n",
    "    for dig in str(num):\n",
    "        s+=int(dig)\n",
    "    for each in range(1,s+1):\n",
    "         if s%each==0:\n",
    "            count+=1\n",
    "    if count==2:\n",
    "        print(num,end=\" \")"
   ]
  },
  {
   "cell_type": "code",
   "execution_count": 3,
   "metadata": {},
   "outputs": [
    {
     "name": "stdout",
     "output_type": "stream",
     "text": [
      "180\n",
      "3\n",
      "640 480\n",
      "crop it\n",
      "120 300\n",
      "upload anthoer\n",
      "180 180\n",
      "accepted\n"
     ]
    }
   ],
   "source": [
    "#dimension=l*l\n",
    "'''w or h<l==upload another\n",
    "w & h==l-->accepted\n",
    "w or h>l==>crop it'''\n",
    "l=int(input())\n",
    "n=int(input())\n",
    "for num in range(n):\n",
    "    wh=input().split()\n",
    "    width,height=int(wh[0]),int(wh[1])\n",
    "    if width<l or height<l:\n",
    "        print(\"upload anthoer\")\n",
    "    elif width==l and height==l:\n",
    "        print(\"accepted\")\n",
    "    elif width>l or height>l:\n",
    "        print(\"crop it\")\n",
    "        \n",
    "    "
   ]
  },
  {
   "cell_type": "code",
   "execution_count": 4,
   "metadata": {},
   "outputs": [
    {
     "name": "stdout",
     "output_type": "stream",
     "text": [
      "['__add__', '__class__', '__contains__', '__delattr__', '__delitem__', '__dir__', '__doc__', '__eq__', '__format__', '__ge__', '__getattribute__', '__getitem__', '__gt__', '__hash__', '__iadd__', '__imul__', '__init__', '__init_subclass__', '__iter__', '__le__', '__len__', '__lt__', '__mul__', '__ne__', '__new__', '__reduce__', '__reduce_ex__', '__repr__', '__reversed__', '__rmul__', '__setattr__', '__setitem__', '__sizeof__', '__str__', '__subclasshook__', 'append', 'clear', 'copy', 'count', 'extend', 'index', 'insert', 'pop', 'remove', 'reverse', 'sort'] "
     ]
    }
   ],
   "source": [
    "print(dir(list),end=' ')"
   ]
  },
  {
   "cell_type": "code",
   "execution_count": 5,
   "metadata": {},
   "outputs": [
    {
     "name": "stdout",
     "output_type": "stream",
     "text": [
      "12\n",
      "122\n",
      "458\n",
      "[12, 77, 78, 79, 90, 122]\n",
      "6\n"
     ]
    }
   ],
   "source": [
    "j=[12,78,90,122,79,77]\n",
    "print(min(j))\n",
    "print(max(j))\n",
    "print(sum(j))\n",
    "print(sorted(j))\n",
    "print(len(j))"
   ]
  },
  {
   "cell_type": "code",
   "execution_count": 4,
   "metadata": {},
   "outputs": [
    {
     "name": "stdout",
     "output_type": "stream",
     "text": [
      "[65, 77, 78, 83, 87, 88, 94, 95]\n",
      "[65, 77, 78, 83, 87, 88, 94, 95, 90]\n"
     ]
    }
   ],
   "source": [
    "list1=[65,77,78,83,87,88,94,95]\n",
    "print(list1)\n",
    "list1.append(90)\n",
    "print(list1)"
   ]
  },
  {
   "cell_type": "code",
   "execution_count": 7,
   "metadata": {},
   "outputs": [
    {
     "name": "stdout",
     "output_type": "stream",
     "text": [
      "1\n",
      "1\n",
      "1\n"
     ]
    }
   ],
   "source": [
    "k=[45,20,12,88,70,49]\n",
    "print(k.count(45))\n",
    "print(k.count(88))\n",
    "print(k.count(49))"
   ]
  },
  {
   "cell_type": "code",
   "execution_count": 9,
   "metadata": {},
   "outputs": [
    {
     "ename": "NameError",
     "evalue": "name 'k' is not defined",
     "output_type": "error",
     "traceback": [
      "\u001b[1;31m---------------------------------------------------------------------------\u001b[0m",
      "\u001b[1;31mNameError\u001b[0m                                 Traceback (most recent call last)",
      "\u001b[1;32m<ipython-input-9-c30fc89c6c42>\u001b[0m in \u001b[0;36m<module>\u001b[1;34m\u001b[0m\n\u001b[1;32m----> 1\u001b[1;33m \u001b[0mprint\u001b[0m\u001b[1;33m(\u001b[0m\u001b[0mk\u001b[0m\u001b[1;33m.\u001b[0m\u001b[0mpop\u001b[0m\u001b[1;33m(\u001b[0m\u001b[1;36m0\u001b[0m\u001b[1;33m)\u001b[0m\u001b[1;33m)\u001b[0m\u001b[1;33m\u001b[0m\u001b[1;33m\u001b[0m\u001b[0m\n\u001b[0m\u001b[0;32m      2\u001b[0m \u001b[0mprint\u001b[0m\u001b[1;33m(\u001b[0m\u001b[0mk\u001b[0m\u001b[1;33m)\u001b[0m\u001b[1;33m\u001b[0m\u001b[1;33m\u001b[0m\u001b[0m\n\u001b[0;32m      3\u001b[0m \u001b[0mk\u001b[0m\u001b[1;33m.\u001b[0m\u001b[0mappend\u001b[0m\u001b[1;33m(\u001b[0m\u001b[1;36m34\u001b[0m\u001b[1;33m)\u001b[0m\u001b[1;33m\u001b[0m\u001b[1;33m\u001b[0m\u001b[0m\n\u001b[0;32m      4\u001b[0m \u001b[1;33m\u001b[0m\u001b[0m\n\u001b[0;32m      5\u001b[0m \u001b[0mprint\u001b[0m\u001b[1;33m(\u001b[0m\u001b[0mk\u001b[0m\u001b[1;33m)\u001b[0m\u001b[1;33m\u001b[0m\u001b[1;33m\u001b[0m\u001b[0m\n",
      "\u001b[1;31mNameError\u001b[0m: name 'k' is not defined"
     ]
    }
   ],
   "source": [
    "print(k.pop(0))\n",
    "print(k)\n",
    "k.append(88)\n",
    "\n",
    "print(k)"
   ]
  },
  {
   "cell_type": "code",
   "execution_count": 10,
   "metadata": {},
   "outputs": [
    {
     "name": "stdout",
     "output_type": "stream",
     "text": [
      "[65, 77, 78, 83, 87, 88, 94, 95, 90]\n"
     ]
    }
   ],
   "source": [
    "k=list1.copy()\n",
    "print(k)"
   ]
  },
  {
   "cell_type": "code",
   "execution_count": 11,
   "metadata": {},
   "outputs": [
    {
     "name": "stdout",
     "output_type": "stream",
     "text": [
      "[45, 56, 98, 99, 88, 94, 95, 70, 82, 87]\n",
      "[45, 56, 98, 99, 88, 94, 95, 70, 82, 87]\n",
      "[45, 56, 98, 99, 88, 94, 95, 70, 82]\n",
      "[45, 56, 98, 99, 88, 94, 95, 70, 82]\n"
     ]
    }
   ],
   "source": [
    "c=[45,56,98,99,88,94,95,70,82,87]\n",
    "d=[]\n",
    "d=c\n",
    "print(c)\n",
    "print(d)\n",
    "c.pop()\n",
    "print(c)\n",
    "print(d)"
   ]
  },
  {
   "cell_type": "code",
   "execution_count": 7,
   "metadata": {},
   "outputs": [
    {
     "name": "stdout",
     "output_type": "stream",
     "text": [
      "12\n",
      "[34, 12, 45, 56, 89]\n"
     ]
    }
   ],
   "source": [
    "k=[34,12,34,45,56,12,89]\n",
    "print(k.pop(5))\n",
    "k.pop(2)\n",
    "print(k)"
   ]
  },
  {
   "cell_type": "code",
   "execution_count": 10,
   "metadata": {},
   "outputs": [
    {
     "name": "stdout",
     "output_type": "stream",
     "text": [
      "[45, 87]\n"
     ]
    }
   ],
   "source": [
    "a=[45,23,12,66,12,87,23,12,66]\n",
    "b=[] \n",
    "for i in a:\n",
    "    if a.count(i)==1:\n",
    "        b.append(i)\n",
    "print(b)"
   ]
  },
  {
   "cell_type": "code",
   "execution_count": null,
   "metadata": {},
   "outputs": [],
   "source": [
    "a=[]"
   ]
  }
 ],
 "metadata": {
  "kernelspec": {
   "display_name": "Python 3",
   "language": "python",
   "name": "python3"
  },
  "language_info": {
   "codemirror_mode": {
    "name": "ipython",
    "version": 3
   },
   "file_extension": ".py",
   "mimetype": "text/x-python",
   "name": "python",
   "nbconvert_exporter": "python",
   "pygments_lexer": "ipython3",
   "version": "3.8.5"
  }
 },
 "nbformat": 4,
 "nbformat_minor": 4
}
