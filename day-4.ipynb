{
 "cells": [
  {
   "cell_type": "code",
   "execution_count": 1,
   "metadata": {},
   "outputs": [
    {
     "name": "stdout",
     "output_type": "stream",
     "text": [
      "1\n"
     ]
    }
   ],
   "source": [
    "t2=[45,22,34,56,22]\n",
    "print(t2.count(45))"
   ]
  },
  {
   "cell_type": "code",
   "execution_count": 2,
   "metadata": {},
   "outputs": [
    {
     "name": "stdout",
     "output_type": "stream",
     "text": [
      "['python', 9.0, 34, 'work']\n"
     ]
    }
   ],
   "source": [
    "g=('python',9.0,34,'work')\n",
    "print(list(g))"
   ]
  },
  {
   "cell_type": "code",
   "execution_count": 3,
   "metadata": {},
   "outputs": [
    {
     "name": "stdout",
     "output_type": "stream",
     "text": [
      "{}\n"
     ]
    }
   ],
   "source": [
    "d={}\n",
    "print(d)"
   ]
  },
  {
   "cell_type": "code",
   "execution_count": 9,
   "metadata": {},
   "outputs": [
    {
     "name": "stdout",
     "output_type": "stream",
     "text": [
      "{3: 89, 4: 'python', 88: 4.7, 'workshop': 89}\n"
     ]
    }
   ],
   "source": [
    "d={3:89,4:\"python\",88:4.7,\"workshop\":89}\n",
    "print(d)"
   ]
  },
  {
   "cell_type": "code",
   "execution_count": 13,
   "metadata": {},
   "outputs": [
    {
     "data": {
      "text/plain": [
       "4.7"
      ]
     },
     "execution_count": 13,
     "metadata": {},
     "output_type": "execute_result"
    }
   ],
   "source": [
    "d[88]"
   ]
  },
  {
   "cell_type": "code",
   "execution_count": 14,
   "metadata": {},
   "outputs": [
    {
     "name": "stdout",
     "output_type": "stream",
     "text": [
      "{5: 78, 6: 78, 8: 77}\n"
     ]
    }
   ],
   "source": [
    "d2={5:34,6:78,8:77,5:78}\n",
    "print(d2)"
   ]
  },
  {
   "cell_type": "code",
   "execution_count": 17,
   "metadata": {},
   "outputs": [
    {
     "name": "stdout",
     "output_type": "stream",
     "text": [
      "{5: 78, 6: 78, 8: 77, 4: {56, 78, 6}}\n"
     ]
    }
   ],
   "source": [
    "y={5:78,6:78,8:77,4:{6,56,78}}\n",
    "print(y)"
   ]
  },
  {
   "cell_type": "code",
   "execution_count": 48,
   "metadata": {},
   "outputs": [
    {
     "data": {
      "text/plain": [
       "78"
      ]
     },
     "execution_count": 48,
     "metadata": {},
     "output_type": "execute_result"
    }
   ],
   "source": [
    "y[5]"
   ]
  },
  {
   "cell_type": "code",
   "execution_count": 21,
   "metadata": {},
   "outputs": [
    {
     "name": "stdout",
     "output_type": "stream",
     "text": [
      "{5: 78, 6: 78, 8: 77}\n",
      "5\n",
      "8\n",
      "19\n",
      "[5, 6, 8]\n",
      "3\n"
     ]
    }
   ],
   "source": [
    "a={5:34,6:78,8:77,5:78}\n",
    "print(a)\n",
    "print(min(a))\n",
    "print(max(a))\n",
    "print(sum(a))\n",
    "print(sorted(a))\n",
    "print(len(a))"
   ]
  },
  {
   "cell_type": "code",
   "execution_count": 23,
   "metadata": {},
   "outputs": [
    {
     "name": "stdout",
     "output_type": "stream",
     "text": [
      "{22: 78, 16: 78, 8: 77, 4: {56, 78, 6}}\n",
      "22\n",
      "4\n",
      "[4, 8, 16, 22]\n",
      "50\n",
      "4\n"
     ]
    }
   ],
   "source": [
    "j={22:78,16:78,8:77,4:{6,56,78}}\n",
    "print(j)\n",
    "print(max(j))\n",
    "print(min(j))\n",
    "print(sorted(j))\n",
    "print(sum(j))\n",
    "print(len(j))\n"
   ]
  },
  {
   "cell_type": "code",
   "execution_count": 26,
   "metadata": {},
   "outputs": [
    {
     "name": "stdout",
     "output_type": "stream",
     "text": [
      "70\n",
      "107\n",
      "88\n",
      "b is big\n"
     ]
    }
   ],
   "source": [
    "a=int(input())\n",
    "b=int(input())\n",
    "c=int(input())\n",
    "if(a>b and a>c):\n",
    "    print(\"a is big\")\n",
    "elif(b>a and b>c):\n",
    "    print(\"b is big\")\n",
    "else:\n",
    "    print(\"c is big\")\n",
    "    "
   ]
  },
  {
   "cell_type": "code",
   "execution_count": 27,
   "metadata": {},
   "outputs": [
    {
     "name": "stdout",
     "output_type": "stream",
     "text": [
      "588\n",
      "wrong value\n"
     ]
    }
   ],
   "source": [
    "month=input()\n",
    "if month in (\"january\",\"march\",\"may\",\"july\",\"august\",\"october\"):\n",
    "    print(\"31 days\")\n",
    "elif month in (\"apirl\",\"june\",\"september\",\"november\"):\n",
    "    print(\"30 days\")\n",
    "elif month in (\"febuary\"):\n",
    "    print(\"28 days\")\n",
    "else:\n",
    "    print(\"wrong value\")"
   ]
  },
  {
   "cell_type": "code",
   "execution_count": 28,
   "metadata": {},
   "outputs": [
    {
     "name": "stdout",
     "output_type": "stream",
     "text": [
      "78\n",
      "{5: 78, 8: 77, 'age': 40}\n"
     ]
    }
   ],
   "source": [
    "h={5:78,6:78,8:77,'age':40}\n",
    "print(h.pop(6))\n",
    "print(h)"
   ]
  },
  {
   "cell_type": "code",
   "execution_count": 33,
   "metadata": {},
   "outputs": [
    {
     "name": "stdout",
     "output_type": "stream",
     "text": [
      "{'p': 67, 'y': 67, 't': 67, 'h': 67, 'o': 67, 'n': 67}\n"
     ]
    }
   ],
   "source": [
    "g={}\n",
    "print(g.fromkeys(\"python\",67))"
   ]
  },
  {
   "cell_type": "code",
   "execution_count": 34,
   "metadata": {},
   "outputs": [
    {
     "name": "stdout",
     "output_type": "stream",
     "text": [
      "{'1': 78, '2': 78, '3': 78}\n",
      "{}\n"
     ]
    }
   ],
   "source": [
    "print(g.fromkeys(\"123\",78))\n",
    "print(g)"
   ]
  },
  {
   "cell_type": "code",
   "execution_count": 35,
   "metadata": {},
   "outputs": [
    {
     "name": "stdout",
     "output_type": "stream",
     "text": [
      "{1: 67, 2: 68, 3: 55}\n"
     ]
    }
   ],
   "source": [
    "g[1]=67\n",
    "g[2]=68\n",
    "g[3]=55\n",
    "print(g)"
   ]
  },
  {
   "cell_type": "code",
   "execution_count": 36,
   "metadata": {},
   "outputs": [
    {
     "name": "stdout",
     "output_type": "stream",
     "text": [
      "{1: 99, 2: 68, 3: 55}\n"
     ]
    }
   ],
   "source": [
    "g[1]=99\n",
    "print(g)"
   ]
  },
  {
   "cell_type": "code",
   "execution_count": 40,
   "metadata": {},
   "outputs": [
    {
     "name": "stdout",
     "output_type": "stream",
     "text": [
      "5\n",
      "{1: 1, 2: 4, 3: 9, 4: 16, 5: 25}\n"
     ]
    }
   ],
   "source": [
    "n=int(input())\n",
    "r={}\n",
    "for i in range(1,n+1):\n",
    "    r[i]=i**2\n",
    "print(r)"
   ]
  },
  {
   "cell_type": "code",
   "execution_count": 44,
   "metadata": {},
   "outputs": [
    {
     "name": "stdout",
     "output_type": "stream",
     "text": [
      "8\n",
      "{1: 1, 2: 4, 3: 9, 4: 16, 5: 25, 6: 36, 7: 49, 8: 64}\n"
     ]
    }
   ],
   "source": [
    "n=int(input())\n",
    "g={}\n",
    "s=0\n",
    "for i in range(1,n+1):\n",
    "    g[i]=i**2\n",
    "print(g)"
   ]
  },
  {
   "cell_type": "code",
   "execution_count": 45,
   "metadata": {},
   "outputs": [
    {
     "name": "stdout",
     "output_type": "stream",
     "text": [
      "36\n"
     ]
    }
   ],
   "source": [
    "g={1: 1, 2: 4, 3: 9, 4: 16, 5: 25, 6: 36, 7: 49, 8: 64}\n",
    "s=0\n",
    "for i in g:\n",
    "    s=s+i\n",
    "print(s)"
   ]
  },
  {
   "cell_type": "code",
   "execution_count": 55,
   "metadata": {},
   "outputs": [
    {
     "name": "stdout",
     "output_type": "stream",
     "text": [
      "3\n",
      "4\n"
     ]
    }
   ],
   "source": [
    "n={'a':8,'b':5,'c':4,'d':67,'e':88,'f':45,'g':17}\n",
    "count_even=0\n",
    "count_odd=0\n",
    "for i in n.values():\n",
    "    if(i%2==0):\n",
    "        count_even+=1\n",
    "    else:\n",
    "            count_odd+=1\n",
    "print(count_even)\n",
    "print(count_odd)"
   ]
  },
  {
   "cell_type": "code",
   "execution_count": 3,
   "metadata": {},
   "outputs": [
    {
     "name": "stdout",
     "output_type": "stream",
     "text": [
      "tejanu\n",
      "{'t': 1, 'e': 1, 'j': 1, 'a': 1, 'n': 1, 'u': 1}\n"
     ]
    }
   ],
   "source": [
    "g={}\n",
    "for i in input():\n",
    "    if i not in g:\n",
    "        g[i]=1\n",
    "    else:\n",
    "        g[i]+=1\n",
    "print(g)"
   ]
  },
  {
   "cell_type": "code",
   "execution_count": 4,
   "metadata": {},
   "outputs": [
    {
     "data": {
      "text/plain": [
       "tuple"
      ]
     },
     "execution_count": 4,
     "metadata": {},
     "output_type": "execute_result"
    }
   ],
   "source": [
    "s=()\n",
    "type(s)"
   ]
  },
  {
   "cell_type": "code",
   "execution_count": 5,
   "metadata": {},
   "outputs": [
    {
     "data": {
      "text/plain": [
       "dict"
      ]
     },
     "execution_count": 5,
     "metadata": {},
     "output_type": "execute_result"
    }
   ],
   "source": [
    "s={}\n",
    "type(s)"
   ]
  },
  {
   "cell_type": "code",
   "execution_count": 6,
   "metadata": {},
   "outputs": [
    {
     "data": {
      "text/plain": [
       "{1, 2, 3, 4, 5, 6, 45, 56}"
      ]
     },
     "execution_count": 6,
     "metadata": {},
     "output_type": "execute_result"
    }
   ],
   "source": [
    "s={3,4,5,1,2,4,56,2,3,45,6}\n",
    "s"
   ]
  },
  {
   "cell_type": "code",
   "execution_count": 7,
   "metadata": {},
   "outputs": [
    {
     "name": "stdout",
     "output_type": "stream",
     "text": [
      "{1, 2, 3, 4, 5, 6, 45, 56}\n",
      "56\n",
      "1\n",
      "122\n",
      "[1, 2, 3, 4, 5, 6, 45, 56]\n",
      "8\n"
     ]
    }
   ],
   "source": [
    "s={3,4,5,1,2,4,56,2,3,45,6}\n",
    "print(s)\n",
    "print(max(s))\n",
    "print(min(s))\n",
    "print(sum(s))\n",
    "print(sorted(s))\n",
    "print(len(s))"
   ]
  },
  {
   "cell_type": "code",
   "execution_count": 9,
   "metadata": {},
   "outputs": [
    {
     "data": {
      "text/plain": [
       "{5, 11, 12, 23, 34, 56, 99}"
      ]
     },
     "execution_count": 9,
     "metadata": {},
     "output_type": "execute_result"
    }
   ],
   "source": [
    "s1={34,23,5,11,23}\n",
    "s2={56,12,11,23,99}\n",
    "s1.union(s2)\n",
    "s2.union(s1)"
   ]
  },
  {
   "cell_type": "code",
   "execution_count": 10,
   "metadata": {},
   "outputs": [
    {
     "name": "stdout",
     "output_type": "stream",
     "text": [
      "{34, 67, 5, 11, 23}\n"
     ]
    }
   ],
   "source": [
    "s1={34,23,5,11,23}\n",
    "s1.add(67)\n",
    "print(s1)"
   ]
  },
  {
   "cell_type": "code",
   "execution_count": 13,
   "metadata": {},
   "outputs": [
    {
     "name": "stdout",
     "output_type": "stream",
     "text": [
      "{34, 99, 5, 11, 12, 77, 23, 56, 94}\n",
      "{34, 99, 5, 11, 12, 77, 23, 56, 94}\n",
      "{11, 23}\n",
      "{11, 23}\n"
     ]
    }
   ],
   "source": [
    "s1={34,23,5,11,23,77}\n",
    "s2={56,12,11,23,99,94}\n",
    "print(s1.union(s2))\n",
    "print(s2.union(s1))\n",
    "print(s1.intersection(s2))\n",
    "print(s2.intersection(s1))"
   ]
  },
  {
   "cell_type": "code",
   "execution_count": 14,
   "metadata": {},
   "outputs": [
    {
     "name": "stdout",
     "output_type": "stream",
     "text": [
      "{34, 67, 11, 23}\n"
     ]
    }
   ],
   "source": [
    "s2={34,67,5,11,23}\n",
    "s2.discard(5)\n",
    "print(s2)"
   ]
  },
  {
   "cell_type": "code",
   "execution_count": 15,
   "metadata": {},
   "outputs": [
    {
     "name": "stdout",
     "output_type": "stream",
     "text": [
      "{34, 67, 5, 11, 23}\n"
     ]
    }
   ],
   "source": [
    "s1={34,23,5,11,23}\n",
    "s1.add(67)\n",
    "print(s1)"
   ]
  },
  {
   "cell_type": "code",
   "execution_count": 16,
   "metadata": {},
   "outputs": [
    {
     "ename": "SyntaxError",
     "evalue": "invalid syntax (<ipython-input-16-0a7a62b02dce>, line 2)",
     "output_type": "error",
     "traceback": [
      "\u001b[1;36m  File \u001b[1;32m\"<ipython-input-16-0a7a62b02dce>\"\u001b[1;36m, line \u001b[1;32m2\u001b[0m\n\u001b[1;33m    print(\"\\n1 noddles.80\",\"\\n2 chicken.280\",\"\\n3 puri.120\",\"\\n4 manchuriya.90\",\"\\n5 chapathi.50\"):\u001b[0m\n\u001b[1;37m                                                                                                   ^\u001b[0m\n\u001b[1;31mSyntaxError\u001b[0m\u001b[1;31m:\u001b[0m invalid syntax\n"
     ]
    }
   ],
   "source": [
    "print(\"menu\")\n",
    "print(\"\\n1 noddles.80\",\"\\n2 chicken.280\",\"\\n3 puri.120\",\"\\n4 manchuriya.90\",\"\\n5 chapathi.50\"):"
   ]
  },
  {
   "cell_type": "code",
   "execution_count": null,
   "metadata": {},
   "outputs": [],
   "source": []
  }
 ],
 "metadata": {
  "kernelspec": {
   "display_name": "Python 3",
   "language": "python",
   "name": "python3"
  },
  "language_info": {
   "codemirror_mode": {
    "name": "ipython",
    "version": 3
   },
   "file_extension": ".py",
   "mimetype": "text/x-python",
   "name": "python",
   "nbconvert_exporter": "python",
   "pygments_lexer": "ipython3",
   "version": "3.8.5"
  }
 },
 "nbformat": 4,
 "nbformat_minor": 4
}
